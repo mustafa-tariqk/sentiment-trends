{
 "cells": [
  {
   "cell_type": "code",
   "execution_count": 142,
   "metadata": {},
   "outputs": [],
   "source": [
    "# Importing necessary packages + initializing settings\n",
    "import pandas as pd\n",
    "import nltk\n",
    "import re\n",
    "from nltk.sentiment.vader import SentimentIntensityAnalyzer\n",
    "from nltk.corpus import stopwords\n",
    "from collections import Counter\n",
    "from string import punctuation\n",
    "# nltk.download([\"stopwords\",\"vader_lexicon\"])\n",
    "import matplotlib.pyplot as plt\n",
    "\n",
    "pd.set_option(\"display.max_rows\",5)\n",
    "\n",
    "# Loading data\n",
    "# training_data = pd.read_csv(\"./twitter_training.csv\", index_col=0, names=[\"Index\",\"Entity\",\"Sentiment\",\"Tweet\"])\n",
    "testing_data = pd.read_csv(\"./twitter_validation.csv\", index_col=0, names=[\"Index\",\"Entity\",\"Sentiment\",\"Tweet\"])\n",
    "\n",
    "# Outputting first 5 rows of training data\n",
    "# training_data.head()\n",
    "# Outputting first 5 rows of testing data\n",
    "# testing_data.head()\n",
    "\n",
    "    #removing_mentions = r'@[A-Za-z0-9_]+'\n",
    "    #removing_links = r'httpss?://[^ ]+'\n",
    "    #removing_links_mentions = r'|'.join((removing_mentions,removing_links))\n",
    "    #removing_www = r'www.[^ ]+'\n",
    "\n",
    "indices = testing_data.index.values.tolist()"
   ]
  },
  {
   "cell_type": "code",
   "execution_count": 143,
   "metadata": {},
   "outputs": [],
   "source": [
    "'''\n",
    "This function processes the tweet into a string array for NLP sentiment analysis.\n",
    "'''\n",
    "\n",
    "def clean_tweet(tweet):\n",
    "\n",
    "    removing_mentions = r'@[A-Za-z0-9_]+'\n",
    "    \n",
    "    tweet = tweet.lower()\n",
    "\n",
    "    tweet = re.sub(removing_mentions, '', tweet)\n",
    "\n",
    "    tokens = tweet.split()\n",
    "    table = str.maketrans(\" \",\" \",punctuation)\n",
    "    tokens = [w.translate(table) for w in tokens]\n",
    "    token = [w for w in tokens if w.isalpha()]\n",
    "    stop_words = stopwords.words(\"english\")\n",
    "    new_tweet = [w for w in token if w not in stop_words]\n",
    "\n",
    "    return ' '.join(new_tweet)"
   ]
  },
  {
   "cell_type": "code",
   "execution_count": 183,
   "metadata": {},
   "outputs": [],
   "source": [
    "'''\n",
    "This function returns statistics on processed set of tweets.\n",
    "Returns frequency data as well as sentiment analysis.\n",
    "'''\n",
    "\n",
    "def analyze_tweet(input_tweets):\n",
    "\n",
    "    all_sentiment = []\n",
    "\n",
    "    count = 0\n",
    "\n",
    "    for idx in range(len(input_tweets)):   \n",
    "        temp = sentiment_analyzer.polarity_scores(input_tweets[idx])\n",
    "        all_sentiment.append(temp[\"compound\"])\n",
    "\n",
    "    \n",
    "    freq_dist_tweet = nltk.FreqDist(input_tweets) \n",
    "\n",
    "    return all_sentiment, freq_dist_tweet"
   ]
  },
  {
   "cell_type": "code",
   "execution_count": 184,
   "metadata": {},
   "outputs": [
    {
     "data": {
      "text/plain": [
       "Index\n",
       "3364    I mentioned on Facebook that I was struggling ...\n",
       "352     BBC News - Amazon boss Jeff Bezos rejects clai...\n",
       "                              ...                        \n",
       "8069    Bought a fraction of Microsoft today. Small wins.\n",
       "6960    Johnson & Johnson to stop selling talc baby po...\n",
       "Name: Tweet, Length: 1000, dtype: object"
      ]
     },
     "execution_count": 184,
     "metadata": {},
     "output_type": "execute_result"
    }
   ],
   "source": [
    "testing_data.Tweet"
   ]
  },
  {
   "cell_type": "code",
   "execution_count": 185,
   "metadata": {},
   "outputs": [
    {
     "data": {
      "text/plain": [
       "'AWESOME !!  BONECAKES...with strawberries and original maple syrup please !!!\\r\\n☠️☠️☠️ 😍 ☠️☠️☠️\\r\\n@BunnieKat1962 @OctoberBones @searcher9090 @Homenutt_1 @SkellyIce  @DeathsLastLaugh @CryptMidwest @RJCrowtherJr @1carolinagirl @Figster017 @lesliea10115 @Vampire4me @MadmMonstrosity'"
      ]
     },
     "execution_count": 185,
     "metadata": {},
     "output_type": "execute_result"
    }
   ],
   "source": [
    "# Testing tweet cleaner\n",
    "idx = indices[233]\n",
    "\n",
    "# Original input\n",
    "testing_data.Tweet.loc[idx]"
   ]
  },
  {
   "cell_type": "code",
   "execution_count": 186,
   "metadata": {},
   "outputs": [
    {
     "data": {
      "text/plain": [
       "'awesome bonecakeswith strawberries original maple syrup please'"
      ]
     },
     "execution_count": 186,
     "metadata": {},
     "output_type": "execute_result"
    }
   ],
   "source": [
    "# Clean output\n",
    "clean_tweet(testing_data.Tweet.loc[idx])"
   ]
  },
  {
   "cell_type": "code",
   "execution_count": 187,
   "metadata": {},
   "outputs": [],
   "source": [
    "token_tweets = []\n",
    "\n",
    "for idx in testing_data.index.values.tolist():\n",
    "    token_tweets.append(clean_tweet(testing_data.Tweet.loc[idx]))\n",
    "    \n"
   ]
  },
  {
   "cell_type": "code",
   "execution_count": 188,
   "metadata": {},
   "outputs": [
    {
     "data": {
      "text/plain": [
       "[('wow', 3), ('check video leagueoflegends captured outplayed', 3), ('wtf', 2)]"
      ]
     },
     "execution_count": 188,
     "metadata": {},
     "output_type": "execute_result"
    }
   ],
   "source": [
    "freq_dist_tweet = nltk.FreqDist(token_tweets)\n",
    "freq_dist_tweet.most_common(3)"
   ]
  },
  {
   "cell_type": "code",
   "execution_count": 189,
   "metadata": {},
   "outputs": [
    {
     "name": "stdout",
     "output_type": "stream",
     "text": [
      "Displaying 3 of 3 matches:\n",
      "e outrage anger check video leagueoflegends captured outplayed like almost tim\n",
      " apps disgusted check video leagueoflegends captured outplayed gotta buy xbox \n",
      "would boss move check video leagueoflegends captured outplayed man fifa game d\n"
     ]
    }
   ],
   "source": [
    "test_conco = nltk.Text(token_tweets)\n",
    "test_conco.concordance(\"check video leagueoflegends captured outplayed\")"
   ]
  },
  {
   "cell_type": "code",
   "execution_count": 190,
   "metadata": {},
   "outputs": [
    {
     "name": "stdout",
     "output_type": "stream",
     "text": [
      "{'neg': 0.196, 'neu': 0.804, 'pos': 0.0, 'compound': -0.296}\n",
      "Neutral\n"
     ]
    }
   ],
   "source": [
    "# Testing sentiment analyzer\n",
    "idx = 6960\n",
    "sentiment_analyzer = SentimentIntensityAnalyzer()\n",
    "print(sentiment_analyzer.polarity_scores(clean_tweet(testing_data.Tweet.loc[idx])))\n",
    "print(testing_data.Sentiment.loc[idx])\n"
   ]
  },
  {
   "cell_type": "code",
   "execution_count": 191,
   "metadata": {},
   "outputs": [],
   "source": [
    "\n",
    "input_tweets = []\n",
    "\n",
    "pos_count_true = 0\n",
    "neg_count_true = 0\n",
    "neu_count_true = 0\n",
    "\n",
    "\n",
    "for idx in testing_data.index.values.tolist():\n",
    "    input_tweets.append(clean_tweet(testing_data.Tweet.loc[idx]))\n",
    "\n",
    "    if testing_data.Sentiment.loc[idx]=='Positive':\n",
    "        pos_count_true+=1\n",
    "    elif testing_data.Sentiment.loc[idx]=='Negative':\n",
    "        neg_count_true+=1\n",
    "    else:\n",
    "        neu_count_true+=1\n",
    "\n",
    "sentiment, freq = analyze_tweet(input_tweets)"
   ]
  },
  {
   "cell_type": "code",
   "execution_count": 193,
   "metadata": {},
   "outputs": [
    {
     "data": {
      "text/plain": [
       "Text(0.5, 1.0, 'Sentiment of tweets over time')"
      ]
     },
     "execution_count": 193,
     "metadata": {},
     "output_type": "execute_result"
    },
    {
     "data": {
      "image/png": "[encoded data removed]",
      "text/plain": [
       "<Figure size 432x288 with 1 Axes>"
      ]
     },
     "metadata": {
      "needs_background": "light"
     },
     "output_type": "display_data"
    }
   ],
   "source": [
    "plt.figure\n",
    "plt.plot(sentiment)\n",
    "plt.show\n",
    "plt.xlabel(\"Time\")\n",
    "plt.ylabel(\"Sentiment\")\n",
    "plt.title(\"Sentiment of tweets over time\")"
   ]
  },
  {
   "cell_type": "code",
   "execution_count": null,
   "metadata": {},
   "outputs": [],
   "source": []
  }
 ],
 "metadata": {
  "interpreter": {
   "hash": "958cef59ee8b1c1f57a2d9524612d8a965c27517d6cfb9390e4072240344671e"
  },
  "kernelspec": {
   "display_name": "Python 3.7.7 ('base')",
   "language": "python",
   "name": "python3"
  },
  "language_info": {
   "codemirror_mode": {
    "name": "ipython",
    "version": 3
   },
   "file_extension": ".py",
   "mimetype": "text/x-python",
   "name": "python",
   "nbconvert_exporter": "python",
   "pygments_lexer": "ipython3",
   "version": "3.7.7"
  },
  "orig_nbformat": 4
 },
 "nbformat": 4,
 "nbformat_minor": 2
}
