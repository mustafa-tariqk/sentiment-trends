{
 "cells": [
  {
   "cell_type": "markdown",
   "metadata": {},
   "source": [
    "<h1>Experimentation Notebook for Twitter Sentiment Analysis</h1>\n",
    "This notebook covers all work done in building the backend portion of the Twitter Sentiment Trend app.\n",
    "The NLTK sentiment analyzer will be compared with the BERT analyzer and benchmarked against the true results in the validation set."
   ]
  },
  {
   "cell_type": "markdown",
   "metadata": {},
   "source": [
    "<h3> Initializing packages and datasets </h3>"
   ]
  },
  {
   "cell_type": "code",
   "execution_count": 129,
   "metadata": {},
   "outputs": [
    {
     "name": "stderr",
     "output_type": "stream",
     "text": [
      "Some weights of the model checkpoint at cardiffnlp/twitter-roberta-base-sentiment-latest were not used when initializing RobertaForSequenceClassification: ['roberta.pooler.dense.bias', 'roberta.pooler.dense.weight']\n",
      "- This IS expected if you are initializing RobertaForSequenceClassification from the checkpoint of a model trained on another task or with another architecture (e.g. initializing a BertForSequenceClassification model from a BertForPreTraining model).\n",
      "- This IS NOT expected if you are initializing RobertaForSequenceClassification from the checkpoint of a model that you expect to be exactly identical (initializing a BertForSequenceClassification model from a BertForSequenceClassification model).\n"
     ]
    }
   ],
   "source": [
    "# Importing necessary packages + initializing settings\n",
    "import pandas as pd\n",
    "import datetime\n",
    "import numpy as np\n",
    "import nltk\n",
    "import re\n",
    "import tweepy\n",
    "from nltk.sentiment.vader import SentimentIntensityAnalyzer\n",
    "from nltk.corpus import stopwords\n",
    "from collections import Counter\n",
    "from transformers import AutoModelForSequenceClassification\n",
    "from transformers import AutoTokenizer, AutoConfig\n",
    "from matplotlib.collections import LineCollection\n",
    "from scipy.special import softmax\n",
    "from string import punctuation\n",
    "import matplotlib.pyplot as plt\n",
    "from secret import * # Contains the OAuth authentication tokens.\n",
    "\n",
    "MODEL = f\"cardiffnlp/twitter-roberta-base-sentiment-latest\"\n",
    "tokenizer = AutoTokenizer.from_pretrained(MODEL)\n",
    "config = AutoConfig.from_pretrained(MODEL)\n",
    "model = AutoModelForSequenceClassification.from_pretrained(MODEL)\n",
    "\n",
    "# Loading data\n",
    "testing_data = pd.read_csv(\"./twitter_validation.csv\", index_col=0, names=[\"Index\",\"Entity\",\"Sentiment\",\"Tweet\"])\n",
    "\n",
    "# Converting indices in dataset to a list\n",
    "indices = testing_data.index.values.tolist()\n",
    "\n",
    "ROLLING = 10 # number of tweets sampled by API"
   ]
  },
  {
   "cell_type": "markdown",
   "metadata": {},
   "source": [
    "<h3> Defining <code> multi_color_chart</code> function</h3>\n",
    "\n",
    "Function for plotting encoded multi color chart."
   ]
  },
  {
   "cell_type": "code",
   "execution_count": 130,
   "metadata": {},
   "outputs": [],
   "source": [
    "def multi_color_chart(y):\n",
    "    \"\"\"\n",
    "    multi_color_chart takes as input sentiment data and returns a fig object\n",
    "    which is a line plot color-coded to the polarity of the data.\n",
    "    \n",
    "    \"\"\"\n",
    "    fig, ax = plt.subplots()\n",
    "\n",
    "    # Creating line segments to be color coded\n",
    "    x_val = np.linspace(0, len(y), len(y))\n",
    "    points = np.array([x_val, y]).T.reshape(-1, 1, 2)\n",
    "    segments = np.concatenate([points[:-1], points[1:]], axis=1)\n",
    "\n",
    "    # Setting up bounds for color coding and choosing color theme\n",
    "    norm = plt.Normalize(y.min(), y.max())\n",
    "    lc = LineCollection(segments, cmap='seismic_r', norm=norm)\n",
    "    # Using input array as color reference\n",
    "    lc.set_array(y)\n",
    "    lc.set_linewidth(2)\n",
    "    line = ax.add_collection(lc)\n",
    "\n",
    "    # This is done to avoid annoying scaling errors\n",
    "    ax.plot(y*np.nan)\n",
    "\n",
    "    tick_spacing = round(max(x_val)/5)\n",
    "\n",
    "    ax.set_yticks([])\n",
    "    # ax.set_xticks(x_val[0:-1:tick_spacing],labels=['24','18', '12', '6', 'Now'])\n",
    "    # ax.xaxis.set_major_locator(ticker.MultipleLocator(tick_spacing))\n",
    "    ax.set_ylabel(\"Tweet Sentiment\")\n",
    "    ax.set_xlabel(\"Time\")\n",
    "\n",
    "    return fig, ax"
   ]
  },
  {
   "cell_type": "markdown",
   "metadata": {},
   "source": [
    "<h3> Defining <code>clean_tweet</code> function </h3>\n",
    "\n",
    "The function processes a raw tweet and returns a list of words separated by space characters + the hashtags used in the tweet.\n",
    "The code removes special characters, punctuation, numbers and stopwords (e.g., \"a\", \"the\", \"for\", etc.)."
   ]
  },
  {
   "cell_type": "code",
   "execution_count": 131,
   "metadata": {},
   "outputs": [],
   "source": [
    "def clean_tweet(tweet):\n",
    "    \"\"\"\n",
    "    This function processes the tweet into a string array for NLP sentiment analysis.    \n",
    "    \"\"\"\n",
    "\n",
    "    # Removing RT from tweet (can't figure out how to filter out retweets with Twitter APIv2)\n",
    "    remove_RT = lambda x: re.compile('RT @').sub('@',x,count=1).strip() \n",
    "    tweet = remove_RT(tweet)\n",
    "\n",
    "    # Removing mentions with regex\n",
    "    tweet = re.sub(r'@[A-Za-z0-9_]+', '', tweet)\n",
    "\n",
    "    # Removing links\n",
    "    tweet = re.sub(r\"http\\S+\", \"\", tweet)\n",
    "    tweet = re.sub(r\"www.\\S+\", \"\", tweet) \n",
    "\n",
    "    # Extracting then removing hashtags\n",
    "    hashtags = re.findall(r\"#(\\w+)\", tweet)\n",
    "    tweet = re.sub(\"#[A-Za-z0-9_]+\",\"\", tweet)\n",
    "\n",
    "    # Converting uppercase characters\n",
    "    tweet = tweet.lower()\n",
    "\n",
    "    # Splitting up all words into array of strings\n",
    "    tokens = tweet.split()\n",
    "\n",
    "    # Removing punctuation\n",
    "    table = str.maketrans(\" \",\" \",punctuation)\n",
    "    tokens = [w.translate(table) for w in tokens]\n",
    "\n",
    "    # Removing alpha/numerical words\n",
    "    token = [w for w in tokens if w.isalpha()]\n",
    "\n",
    "    for idx in range(len(token)):\n",
    "        t = [ch for ch in token[idx] if ch.isalpha()]\n",
    "        token[idx]=''.join(t)\n",
    "\n",
    "    # Removing stopwords e.g., \"a\", \"the\", \"for\", etc.\n",
    "    stop_words = stopwords.words(\"english\")\n",
    "    new_tweet = [w for w in token if w not in stop_words]\n",
    "\n",
    "    return ' '.join(new_tweet), ' '.join(hashtags)"
   ]
  },
  {
   "cell_type": "markdown",
   "metadata": {},
   "source": [
    "<h3> Defining <code>sort_freq</code> function </h3>\n",
    "\n",
    "The functions takes as input a list of words and returns two lists:\n",
    "-word_labels which is the list containing all words in the input list\n",
    "-word_counts which is the count of the word in the word_labels list\n",
    "Both lists are sorted in descending order."
   ]
  },
  {
   "cell_type": "code",
   "execution_count": 132,
   "metadata": {},
   "outputs": [],
   "source": [
    "def sort_freq(input_text_list):\n",
    "    \"\"\"\n",
    "    sort_freq takes as input a list of words and returns two lists, \n",
    "    word_counts which is the count of the word in the word_labels list.\n",
    "    Both lists are sorted in descending order.\n",
    "    \"\"\"\n",
    "    \n",
    "    counts = Counter(\" \".join(input_text_list).split(\" \"))\n",
    "\n",
    "    # Sorting distribution from highest to lowest frequency\n",
    "    labels, values = zip(*counts.items())\n",
    "    word_labels = np.array(labels)[np.argsort(values)[::-1]]\n",
    "    word_counts = np.array(values)[np.argsort(values)[::-1]]\n",
    "\n",
    "    return word_labels, word_counts"
   ]
  },
  {
   "cell_type": "markdown",
   "metadata": {},
   "source": [
    "<h3> Defining <code>analyze_tweet_nltk</code> function </h3>\n",
    "\n",
    "This function returns statistics on processed set of tweets.\n",
    "Returns frequency data as well as sentiment analysis using NLTK polarity score sentiment analyzer."
   ]
  },
  {
   "cell_type": "code",
   "execution_count": 133,
   "metadata": {},
   "outputs": [],
   "source": [
    "'''\n",
    "This function returns statistics on processed set of tweets.\n",
    "Returns frequency data as well as sentiment analysis.\n",
    "'''\n",
    "\n",
    "def analyze_tweet_nltk(input_tweets):\n",
    "\n",
    "    all_sentiment = []\n",
    "\n",
    "    count = 0\n",
    "\n",
    "    for idx in range(len(input_tweets)):   \n",
    "        temp = sentiment_analyzer.polarity_scores(input_tweets[idx])\n",
    "        all_sentiment.append(temp[\"compound\"])\n",
    "\n",
    "    \n",
    "    #freq_dist_tweet = nltk.FreqDist(input_tweets) \n",
    "\n",
    "    # Acquiring frequency distribution of words\n",
    "    counts = Counter(str(input_tweets).split())\n",
    "\n",
    "    labels, values = zip(*counts.items())\n",
    "\n",
    "    word_labels = np.array(labels)[np.argsort(values)[::-1]]\n",
    "    word_counts = np.array(values)[np.argsort(values)[::-1]]\n",
    "\n",
    "    return all_sentiment, word_counts, word_labels"
   ]
  },
  {
   "cell_type": "markdown",
   "metadata": {},
   "source": [
    "<h3> Defining <code>analyze_tweet_bert</code> function </h3>\n",
    "\n",
    "This function returns statistics on processed set of tweets.\n",
    "Returns frequency data as well as sentiment analysis using roBERTa polarity score sentiment analyzer."
   ]
  },
  {
   "cell_type": "code",
   "execution_count": 193,
   "metadata": {},
   "outputs": [],
   "source": [
    "'''\n",
    "This function returns statistics on processed set of tweets.\n",
    "Returns frequency data as well as sentiment analysis.\n",
    "Uses roBERTa https://huggingface.co/cardiffnlp/twitter-roberta-base-sentiment-latest\n",
    "'''\n",
    "\n",
    "def analyze_tweet_bert(input_tweets):\n",
    "\n",
    "    all_sentiment = []\n",
    "    for idx in range(len(input_tweets)): \n",
    "        encoded_input = tokenizer(input_tweets[idx], return_tensors='pt')\n",
    "        output = model(**encoded_input)\n",
    "        scores = output[0][0].detach().numpy()\n",
    "        scores = softmax(scores)\n",
    "        score = (-1*scores[0]+scores[1]/3+scores[2])\n",
    "        # score = -1*scores[0]+scores[2]\n",
    "\n",
    "        # if scores[1] == max(scores):\n",
    "        #     score = scores[1]/2\n",
    "        # elif scores[0] == max(scores):\n",
    "        #     score = -1*scores[0]\n",
    "        # elif scores[2] == max(scores):\n",
    "        #     score = scores[2]\n",
    "\n",
    "        all_sentiment.append(score)\n",
    "\n",
    "    word_labels, word_counts = sort_freq(input_tweets)\n",
    "\n",
    "    return all_sentiment, word_counts, word_labels"
   ]
  },
  {
   "cell_type": "markdown",
   "metadata": {},
   "source": [
    "<h3> Data collection function <code> collect_data </code> </h3>\n",
    "\n",
    "Collects tweet data (date and text) when keyword is entered."
   ]
  },
  {
   "cell_type": "code",
   "execution_count": 135,
   "metadata": {},
   "outputs": [],
   "source": [
    "def collect_data(keyword, hours_num, hour_interval=2):\n",
    "    \"\"\"\n",
    "    collect_data uses the Twitter API via tweepy module to collect tweets based\n",
    "    on a search query. WIth current Essential Access, only Twitter API v2 can\n",
    "    be used. Searches are limited to a maximum of 7 days before current day and\n",
    "    only 100 tweets can be accessed per search. This function collects X tweets\n",
    "    per hour and returns a dictionary with the raw text and timestamp.\n",
    "    \"\"\"\n",
    "\n",
    "    raw_tweets = []\n",
    "    tweet_time = []\n",
    "    \n",
    "    # Query\n",
    "    keyword = keyword + \" lang:en\"\n",
    "\n",
    "    for date_idx in range(hours_num,0,-1):\n",
    "\n",
    "        date_start = datetime.datetime.now() - datetime.timedelta(hours = date_idx*hour_interval)\n",
    "        date_until = date_start + datetime.timedelta(hours=hour_interval)\n",
    "\n",
    "        tweets = api.search_recent_tweets(query=keyword,\n",
    "                                    max_results=ROLLING,\n",
    "                                    end_time=date_until,\n",
    "                                    start_time=date_start,\n",
    "                                    tweet_fields=[\"text\",\"created_at\"])\n",
    "\n",
    "\n",
    "        if tweets.data:\n",
    "            for twt in tweets.data:\n",
    "                raw_tweets.append(twt.text)\n",
    "                tweet_time.append(twt.created_at)\n",
    "    \n",
    "    if not raw_tweets:\n",
    "        return {\"time\": [date_start], \"text\": [\"\"]} \n",
    "\n",
    "    return {\"time\": tweet_time, \"text\": raw_tweets}"
   ]
  },
  {
   "cell_type": "markdown",
   "metadata": {},
   "source": [
    "<h3> Rolling average function <code> moving_average </code> implemented with <code> convolve </code> </h3>"
   ]
  },
  {
   "cell_type": "code",
   "execution_count": 136,
   "metadata": {},
   "outputs": [],
   "source": [
    "def moving_average(x):\n",
    "    \"\"\"\n",
    "    moving_average calculates the moving average of an array of numbers using\n",
    "    convolution. The input array is convolved with a smaller array of ones,\n",
    "    equivalent to a cumulative sum, then divided by the length of the array of\n",
    "    ones. \n",
    "    \"\"\"\n",
    "    return np.convolve(x, np.ones(ROLLING), 'same') / ROLLING"
   ]
  },
  {
   "cell_type": "markdown",
   "metadata": {},
   "source": [
    "<h4> Example of <code> clean_tweet </code> function"
   ]
  },
  {
   "cell_type": "code",
   "execution_count": 137,
   "metadata": {},
   "outputs": [],
   "source": [
    "# Testing tweet cleaner\n",
    "token_tweets = []\n",
    "hashtags = []\n",
    "\n",
    "for idx in indices:\n",
    "    tweett,hasht = clean_tweet(testing_data.Tweet.loc[idx])\n",
    "    token_tweets.append(tweett)\n",
    "    hashtags.append(hasht)\n"
   ]
  },
  {
   "cell_type": "code",
   "execution_count": 138,
   "metadata": {},
   "outputs": [
    {
     "name": "stdout",
     "output_type": "stream",
     "text": [
      "Call of duty warzone (livestream) w/ subs #Warzone youtu.be/7BhH_pjOMU4 via @YouTube Please come watch this AMAZING Call of Duty Warzone stream from this AMAZING streamer! It'd be really, really nice to give him some views and likes as well! 😀 #COD #CallofDuty #Warzone\n"
     ]
    }
   ],
   "source": [
    "# Original tweet\n",
    "idx = 22\n",
    "print(testing_data.Tweet.loc[indices[idx]])"
   ]
  },
  {
   "cell_type": "code",
   "execution_count": 139,
   "metadata": {},
   "outputs": [
    {
     "name": "stdout",
     "output_type": "stream",
     "text": [
      "call duty warzone livestream w subs via please come watch amazing call duty warzone stream amazing streamer itd really really nice give views likes well\n",
      "Hashtags= Warzone COD CallofDuty Warzone\n"
     ]
    }
   ],
   "source": [
    "# Clean output\n",
    "print(token_tweets[idx])\n",
    "print(\"Hashtags=\",hashtags[idx])"
   ]
  },
  {
   "cell_type": "markdown",
   "metadata": {},
   "source": [
    "<h4> Testing <code> FreqDist </code> method of <code> nltk </code> </h4>\n",
    "Wanted to use this method for word count analysis but doesn't seem to work well..."
   ]
  },
  {
   "cell_type": "code",
   "execution_count": 140,
   "metadata": {},
   "outputs": [
    {
     "data": {
      "text/plain": [
       "[('played interesting quiz amazon try luck chance win exciting rewards', 5),\n",
       " ('red dead redemption', 4),\n",
       " ('wow', 3)]"
      ]
     },
     "execution_count": 140,
     "metadata": {},
     "output_type": "execute_result"
    }
   ],
   "source": [
    "freq_dist_tweet = nltk.FreqDist(token_tweets)\n",
    "freq_dist_tweet.most_common(3)"
   ]
  },
  {
   "cell_type": "markdown",
   "metadata": {},
   "source": [
    "<h4> Testing in-house solution for word count analysis </h4>\n",
    "Uses <code>Counter()</code> method from <code>collections</code> module"
   ]
  },
  {
   "cell_type": "code",
   "execution_count": 141,
   "metadata": {},
   "outputs": [
    {
     "data": {
      "text/plain": [
       "{\"['mentioned\": 1,\n",
       " 'facebook': 21,\n",
       " 'struggling': 2,\n",
       " 'motivation': 1,\n",
       " 'go': 28,\n",
       " 'run': 7,\n",
       " 'day': 22,\n",
       " 'translated': 1,\n",
       " 'great': 21,\n",
       " 'auntie': 1}"
      ]
     },
     "execution_count": 141,
     "metadata": {},
     "output_type": "execute_result"
    }
   ],
   "source": [
    "counts_test = Counter(str(token_tweets).split())\n",
    "\n",
    "import itertools\n",
    "dict(itertools.islice(counts_test.items(),10))"
   ]
  },
  {
   "cell_type": "markdown",
   "metadata": {},
   "source": [
    "<h4> Testing <code> nltk</code> sentiment analyzer output </h4>\n",
    "<code> polarity_scores </code> returns 4 values. The first 3 are on a scale of 0 to 1 and indicate presence of negativity (<code> neg </code>), neutrality (<code> neu </code>) or positivity (<code> pos </code>). The fourth value <code> compound </code> is on a scale of -1 to +1 and is calculated separately. "
   ]
  },
  {
   "cell_type": "code",
   "execution_count": 264,
   "metadata": {},
   "outputs": [
    {
     "name": "stdout",
     "output_type": "stream",
     "text": [
      "Pissing people off in FIFA and on twitter 😭😭😭\n",
      "{'neg': 0.474, 'neu': 0.526, 'pos': 0.0, 'compound': -0.4019}\n",
      "True sentiment: Negative\n"
     ]
    }
   ],
   "source": [
    "# Testing nltk sentiment analyzer\n",
    "idx = 280\n",
    "sentiment_analyzer = SentimentIntensityAnalyzer()\n",
    "print(testing_data.Tweet.loc[indices[idx]])\n",
    "print(sentiment_analyzer.polarity_scores(token_tweets[idx]))\n",
    "print(\"True sentiment:\",testing_data.Sentiment.loc[indices[idx]])\n",
    "\n",
    "# Weird cases: idx = 150, 10, 650, 670, 200, 210\n",
    "# Good cases: idx = 30, 800, 780, 790\n",
    "# Bert outperforming nltk: idx = 450, 400\n",
    "# nltk outperforming bert: idx = 600,"
   ]
  },
  {
   "cell_type": "markdown",
   "metadata": {},
   "source": [
    "<h4> Testing <code> bert</code> sentiment analyzer output </h4>\n",
    "<code> scores </code> contains 3 values. They are on a scale of 0 to 1 and indicate presence of negativity (<code> neg </code>), neutrality (<code> neu </code>) or positivity (<code> pos </code>). The three values are combined into a <code> compound</code> score calculated as <code> -1*neg + neu/2 + pos</code>, giving a score between -1 and 1."
   ]
  },
  {
   "cell_type": "code",
   "execution_count": 265,
   "metadata": {},
   "outputs": [
    {
     "name": "stdout",
     "output_type": "stream",
     "text": [
      "Pissing people off in FIFA and on twitter 😭😭😭\n",
      "1) Negative 0.6828\n",
      "2) Neutral 0.2473\n",
      "3) Positive 0.0699\n",
      "Compound score: -0.53\n",
      "True sentiment: Negative\n"
     ]
    }
   ],
   "source": [
    "# encoded_input = tokenizer(testing_data.Tweet.loc[indices[idx]], return_tensors='pt')\n",
    "encoded_input = tokenizer(token_tweets[idx], return_tensors='pt')\n",
    "output = model(**encoded_input)\n",
    "scores = output[0][0].detach().numpy()\n",
    "scores = softmax(scores)\n",
    "score = (-1*scores[0]+scores[1]/2+scores[2])\n",
    "\n",
    "print(testing_data.Tweet.loc[indices[idx]])\n",
    "ranking = np.argsort(scores)\n",
    "ranking = ranking[::-1]\n",
    "for i in range(scores.shape[0]):\n",
    "    l = config.id2label[ranking[i]]\n",
    "    s = scores[ranking[i]]\n",
    "    print(f\"{i+1}) {l} {np.round(float(s), 4)}\")\n",
    "\n",
    "if scores[1] == max(scores):\n",
    "    score = scores[1]/2\n",
    "elif scores[0] == max(scores):\n",
    "    score = -1*scores[0]\n",
    "elif scores[2] == max(scores):\n",
    "    score = scores[2]\n",
    "\n",
    "score = round(-1*scores[0]+scores[1]/3+scores[2],2)\n",
    "\n",
    "print(\"Compound score:\",round(score,2))\n",
    "print(\"True sentiment:\",testing_data.Sentiment.loc[indices[idx]])"
   ]
  },
  {
   "cell_type": "markdown",
   "metadata": {},
   "source": [
    "<h4> Benchmarking <code> nltk</code> and <code> bert</code> sentiment analyzers with true results </h4>\n",
    "The accuracy of the sentiment analyzer is benchmarked using the true results. For the purposes of testing, 'irrelevant' and 'neutral' were grouped together. The 'neutral' category was thresholded as being between a compound value of -0.2 to 0.2. Smaller numbers were deemed to be negative and larger numbers were deemed to be positive.\n",
    "\n",
    "The rates calculated indicate higher accuracy as the fraction approaches 1. Values greater than 1 represent overshooting by the model, and values less than 1 represent undershooting. Accuracy can be changed as the threshold is tweaked, representing some ambiguity in the definition of \"neutral\" in the analyzer."
   ]
  },
  {
   "cell_type": "code",
   "execution_count": 229,
   "metadata": {},
   "outputs": [
    {
     "ename": "KeyError",
     "evalue": "0",
     "output_type": "error",
     "traceback": [
      "\u001b[1;31m---------------------------------------------------------------------------\u001b[0m",
      "\u001b[1;31mKeyError\u001b[0m                                  Traceback (most recent call last)",
      "File \u001b[1;32m~\\AppData\\Local\\Packages\\PythonSoftwareFoundation.Python.3.9_qbz5n2kfra8p0\\LocalCache\\local-packages\\Python39\\site-packages\\pandas\\core\\indexes\\base.py:3621\u001b[0m, in \u001b[0;36mIndex.get_loc\u001b[1;34m(self, key, method, tolerance)\u001b[0m\n\u001b[0;32m   <a href='file:///c%3A/Users/layal/AppData/Local/Packages/PythonSoftwareFoundation.Python.3.9_qbz5n2kfra8p0/LocalCache/local-packages/Python39/site-packages/pandas/core/indexes/base.py?line=3619'>3620</a>\u001b[0m \u001b[39mtry\u001b[39;00m:\n\u001b[1;32m-> <a href='file:///c%3A/Users/layal/AppData/Local/Packages/PythonSoftwareFoundation.Python.3.9_qbz5n2kfra8p0/LocalCache/local-packages/Python39/site-packages/pandas/core/indexes/base.py?line=3620'>3621</a>\u001b[0m     \u001b[39mreturn\u001b[39;00m \u001b[39mself\u001b[39;49m\u001b[39m.\u001b[39;49m_engine\u001b[39m.\u001b[39;49mget_loc(casted_key)\n\u001b[0;32m   <a href='file:///c%3A/Users/layal/AppData/Local/Packages/PythonSoftwareFoundation.Python.3.9_qbz5n2kfra8p0/LocalCache/local-packages/Python39/site-packages/pandas/core/indexes/base.py?line=3621'>3622</a>\u001b[0m \u001b[39mexcept\u001b[39;00m \u001b[39mKeyError\u001b[39;00m \u001b[39mas\u001b[39;00m err:\n",
      "File \u001b[1;32m~\\AppData\\Local\\Packages\\PythonSoftwareFoundation.Python.3.9_qbz5n2kfra8p0\\LocalCache\\local-packages\\Python39\\site-packages\\pandas\\_libs\\index.pyx:136\u001b[0m, in \u001b[0;36mpandas._libs.index.IndexEngine.get_loc\u001b[1;34m()\u001b[0m\n",
      "File \u001b[1;32m~\\AppData\\Local\\Packages\\PythonSoftwareFoundation.Python.3.9_qbz5n2kfra8p0\\LocalCache\\local-packages\\Python39\\site-packages\\pandas\\_libs\\index.pyx:163\u001b[0m, in \u001b[0;36mpandas._libs.index.IndexEngine.get_loc\u001b[1;34m()\u001b[0m\n",
      "File \u001b[1;32mpandas\\_libs\\hashtable_class_helper.pxi:2131\u001b[0m, in \u001b[0;36mpandas._libs.hashtable.Int64HashTable.get_item\u001b[1;34m()\u001b[0m\n",
      "File \u001b[1;32mpandas\\_libs\\hashtable_class_helper.pxi:2140\u001b[0m, in \u001b[0;36mpandas._libs.hashtable.Int64HashTable.get_item\u001b[1;34m()\u001b[0m\n",
      "\u001b[1;31mKeyError\u001b[0m: 0",
      "\nThe above exception was the direct cause of the following exception:\n",
      "\u001b[1;31mKeyError\u001b[0m                                  Traceback (most recent call last)",
      "\u001b[1;32mc:\\Users\\layal\\Desktop\\sentiment-trends\\sentiment-trends\\layale.ipynb Cell 31'\u001b[0m in \u001b[0;36m<cell line: 14>\u001b[1;34m()\u001b[0m\n\u001b[0;32m     <a href='vscode-notebook-cell:/c%3A/Users/layal/Desktop/sentiment-trends/sentiment-trends/layale.ipynb#ch0000026?line=10'>11</a>\u001b[0m neu_count_bert \u001b[39m=\u001b[39m \u001b[39m0\u001b[39m\n\u001b[0;32m     <a href='vscode-notebook-cell:/c%3A/Users/layal/Desktop/sentiment-trends/sentiment-trends/layale.ipynb#ch0000026?line=12'>13</a>\u001b[0m nltk_sentiment, word_counts, word_labels \u001b[39m=\u001b[39m analyze_tweet_nltk(token_tweets)\n\u001b[1;32m---> <a href='vscode-notebook-cell:/c%3A/Users/layal/Desktop/sentiment-trends/sentiment-trends/layale.ipynb#ch0000026?line=13'>14</a>\u001b[0m bert_sentiment, word_counts, word_labels \u001b[39m=\u001b[39m analyze_tweet_bert(testing_data\u001b[39m.\u001b[39;49mTweet)\n\u001b[0;32m     <a href='vscode-notebook-cell:/c%3A/Users/layal/Desktop/sentiment-trends/sentiment-trends/layale.ipynb#ch0000026?line=15'>16</a>\u001b[0m \u001b[39mfor\u001b[39;00m idx \u001b[39min\u001b[39;00m \u001b[39mrange\u001b[39m(\u001b[39mlen\u001b[39m(nltk_sentiment)):\n\u001b[0;32m     <a href='vscode-notebook-cell:/c%3A/Users/layal/Desktop/sentiment-trends/sentiment-trends/layale.ipynb#ch0000026?line=17'>18</a>\u001b[0m     \u001b[39mif\u001b[39;00m testing_data\u001b[39m.\u001b[39mSentiment\u001b[39m.\u001b[39mloc[indices[idx]]\u001b[39m==\u001b[39m\u001b[39m'\u001b[39m\u001b[39mPositive\u001b[39m\u001b[39m'\u001b[39m:\n",
      "\u001b[1;32mc:\\Users\\layal\\Desktop\\sentiment-trends\\sentiment-trends\\layale.ipynb Cell 13'\u001b[0m in \u001b[0;36manalyze_tweet_bert\u001b[1;34m(input_tweets)\u001b[0m\n\u001b[0;32m      <a href='vscode-notebook-cell:/c%3A/Users/layal/Desktop/sentiment-trends/sentiment-trends/layale.ipynb#ch0000010?line=8'>9</a>\u001b[0m all_sentiment \u001b[39m=\u001b[39m []\n\u001b[0;32m     <a href='vscode-notebook-cell:/c%3A/Users/layal/Desktop/sentiment-trends/sentiment-trends/layale.ipynb#ch0000010?line=9'>10</a>\u001b[0m \u001b[39mfor\u001b[39;00m idx \u001b[39min\u001b[39;00m \u001b[39mrange\u001b[39m(\u001b[39mlen\u001b[39m(input_tweets)): \n\u001b[1;32m---> <a href='vscode-notebook-cell:/c%3A/Users/layal/Desktop/sentiment-trends/sentiment-trends/layale.ipynb#ch0000010?line=10'>11</a>\u001b[0m     encoded_input \u001b[39m=\u001b[39m tokenizer(input_tweets[idx], return_tensors\u001b[39m=\u001b[39m\u001b[39m'\u001b[39m\u001b[39mpt\u001b[39m\u001b[39m'\u001b[39m)\n\u001b[0;32m     <a href='vscode-notebook-cell:/c%3A/Users/layal/Desktop/sentiment-trends/sentiment-trends/layale.ipynb#ch0000010?line=11'>12</a>\u001b[0m     output \u001b[39m=\u001b[39m model(\u001b[39m*\u001b[39m\u001b[39m*\u001b[39mencoded_input)\n\u001b[0;32m     <a href='vscode-notebook-cell:/c%3A/Users/layal/Desktop/sentiment-trends/sentiment-trends/layale.ipynb#ch0000010?line=12'>13</a>\u001b[0m     scores \u001b[39m=\u001b[39m output[\u001b[39m0\u001b[39m][\u001b[39m0\u001b[39m]\u001b[39m.\u001b[39mdetach()\u001b[39m.\u001b[39mnumpy()\n",
      "File \u001b[1;32m~\\AppData\\Local\\Packages\\PythonSoftwareFoundation.Python.3.9_qbz5n2kfra8p0\\LocalCache\\local-packages\\Python39\\site-packages\\pandas\\core\\series.py:958\u001b[0m, in \u001b[0;36mSeries.__getitem__\u001b[1;34m(self, key)\u001b[0m\n\u001b[0;32m    <a href='file:///c%3A/Users/layal/AppData/Local/Packages/PythonSoftwareFoundation.Python.3.9_qbz5n2kfra8p0/LocalCache/local-packages/Python39/site-packages/pandas/core/series.py?line=954'>955</a>\u001b[0m     \u001b[39mreturn\u001b[39;00m \u001b[39mself\u001b[39m\u001b[39m.\u001b[39m_values[key]\n\u001b[0;32m    <a href='file:///c%3A/Users/layal/AppData/Local/Packages/PythonSoftwareFoundation.Python.3.9_qbz5n2kfra8p0/LocalCache/local-packages/Python39/site-packages/pandas/core/series.py?line=956'>957</a>\u001b[0m \u001b[39melif\u001b[39;00m key_is_scalar:\n\u001b[1;32m--> <a href='file:///c%3A/Users/layal/AppData/Local/Packages/PythonSoftwareFoundation.Python.3.9_qbz5n2kfra8p0/LocalCache/local-packages/Python39/site-packages/pandas/core/series.py?line=957'>958</a>\u001b[0m     \u001b[39mreturn\u001b[39;00m \u001b[39mself\u001b[39;49m\u001b[39m.\u001b[39;49m_get_value(key)\n\u001b[0;32m    <a href='file:///c%3A/Users/layal/AppData/Local/Packages/PythonSoftwareFoundation.Python.3.9_qbz5n2kfra8p0/LocalCache/local-packages/Python39/site-packages/pandas/core/series.py?line=959'>960</a>\u001b[0m \u001b[39mif\u001b[39;00m is_hashable(key):\n\u001b[0;32m    <a href='file:///c%3A/Users/layal/AppData/Local/Packages/PythonSoftwareFoundation.Python.3.9_qbz5n2kfra8p0/LocalCache/local-packages/Python39/site-packages/pandas/core/series.py?line=960'>961</a>\u001b[0m     \u001b[39m# Otherwise index.get_value will raise InvalidIndexError\u001b[39;00m\n\u001b[0;32m    <a href='file:///c%3A/Users/layal/AppData/Local/Packages/PythonSoftwareFoundation.Python.3.9_qbz5n2kfra8p0/LocalCache/local-packages/Python39/site-packages/pandas/core/series.py?line=961'>962</a>\u001b[0m     \u001b[39mtry\u001b[39;00m:\n\u001b[0;32m    <a href='file:///c%3A/Users/layal/AppData/Local/Packages/PythonSoftwareFoundation.Python.3.9_qbz5n2kfra8p0/LocalCache/local-packages/Python39/site-packages/pandas/core/series.py?line=962'>963</a>\u001b[0m         \u001b[39m# For labels that don't resolve as scalars like tuples and frozensets\u001b[39;00m\n",
      "File \u001b[1;32m~\\AppData\\Local\\Packages\\PythonSoftwareFoundation.Python.3.9_qbz5n2kfra8p0\\LocalCache\\local-packages\\Python39\\site-packages\\pandas\\core\\series.py:1069\u001b[0m, in \u001b[0;36mSeries._get_value\u001b[1;34m(self, label, takeable)\u001b[0m\n\u001b[0;32m   <a href='file:///c%3A/Users/layal/AppData/Local/Packages/PythonSoftwareFoundation.Python.3.9_qbz5n2kfra8p0/LocalCache/local-packages/Python39/site-packages/pandas/core/series.py?line=1065'>1066</a>\u001b[0m     \u001b[39mreturn\u001b[39;00m \u001b[39mself\u001b[39m\u001b[39m.\u001b[39m_values[label]\n\u001b[0;32m   <a href='file:///c%3A/Users/layal/AppData/Local/Packages/PythonSoftwareFoundation.Python.3.9_qbz5n2kfra8p0/LocalCache/local-packages/Python39/site-packages/pandas/core/series.py?line=1067'>1068</a>\u001b[0m \u001b[39m# Similar to Index.get_value, but we do not fall back to positional\u001b[39;00m\n\u001b[1;32m-> <a href='file:///c%3A/Users/layal/AppData/Local/Packages/PythonSoftwareFoundation.Python.3.9_qbz5n2kfra8p0/LocalCache/local-packages/Python39/site-packages/pandas/core/series.py?line=1068'>1069</a>\u001b[0m loc \u001b[39m=\u001b[39m \u001b[39mself\u001b[39;49m\u001b[39m.\u001b[39;49mindex\u001b[39m.\u001b[39;49mget_loc(label)\n\u001b[0;32m   <a href='file:///c%3A/Users/layal/AppData/Local/Packages/PythonSoftwareFoundation.Python.3.9_qbz5n2kfra8p0/LocalCache/local-packages/Python39/site-packages/pandas/core/series.py?line=1069'>1070</a>\u001b[0m \u001b[39mreturn\u001b[39;00m \u001b[39mself\u001b[39m\u001b[39m.\u001b[39mindex\u001b[39m.\u001b[39m_get_values_for_loc(\u001b[39mself\u001b[39m, loc, label)\n",
      "File \u001b[1;32m~\\AppData\\Local\\Packages\\PythonSoftwareFoundation.Python.3.9_qbz5n2kfra8p0\\LocalCache\\local-packages\\Python39\\site-packages\\pandas\\core\\indexes\\base.py:3623\u001b[0m, in \u001b[0;36mIndex.get_loc\u001b[1;34m(self, key, method, tolerance)\u001b[0m\n\u001b[0;32m   <a href='file:///c%3A/Users/layal/AppData/Local/Packages/PythonSoftwareFoundation.Python.3.9_qbz5n2kfra8p0/LocalCache/local-packages/Python39/site-packages/pandas/core/indexes/base.py?line=3620'>3621</a>\u001b[0m     \u001b[39mreturn\u001b[39;00m \u001b[39mself\u001b[39m\u001b[39m.\u001b[39m_engine\u001b[39m.\u001b[39mget_loc(casted_key)\n\u001b[0;32m   <a href='file:///c%3A/Users/layal/AppData/Local/Packages/PythonSoftwareFoundation.Python.3.9_qbz5n2kfra8p0/LocalCache/local-packages/Python39/site-packages/pandas/core/indexes/base.py?line=3621'>3622</a>\u001b[0m \u001b[39mexcept\u001b[39;00m \u001b[39mKeyError\u001b[39;00m \u001b[39mas\u001b[39;00m err:\n\u001b[1;32m-> <a href='file:///c%3A/Users/layal/AppData/Local/Packages/PythonSoftwareFoundation.Python.3.9_qbz5n2kfra8p0/LocalCache/local-packages/Python39/site-packages/pandas/core/indexes/base.py?line=3622'>3623</a>\u001b[0m     \u001b[39mraise\u001b[39;00m \u001b[39mKeyError\u001b[39;00m(key) \u001b[39mfrom\u001b[39;00m \u001b[39merr\u001b[39;00m\n\u001b[0;32m   <a href='file:///c%3A/Users/layal/AppData/Local/Packages/PythonSoftwareFoundation.Python.3.9_qbz5n2kfra8p0/LocalCache/local-packages/Python39/site-packages/pandas/core/indexes/base.py?line=3623'>3624</a>\u001b[0m \u001b[39mexcept\u001b[39;00m \u001b[39mTypeError\u001b[39;00m:\n\u001b[0;32m   <a href='file:///c%3A/Users/layal/AppData/Local/Packages/PythonSoftwareFoundation.Python.3.9_qbz5n2kfra8p0/LocalCache/local-packages/Python39/site-packages/pandas/core/indexes/base.py?line=3624'>3625</a>\u001b[0m     \u001b[39m# If we have a listlike key, _check_indexing_error will raise\u001b[39;00m\n\u001b[0;32m   <a href='file:///c%3A/Users/layal/AppData/Local/Packages/PythonSoftwareFoundation.Python.3.9_qbz5n2kfra8p0/LocalCache/local-packages/Python39/site-packages/pandas/core/indexes/base.py?line=3625'>3626</a>\u001b[0m     \u001b[39m#  InvalidIndexError. Otherwise we fall through and re-raise\u001b[39;00m\n\u001b[0;32m   <a href='file:///c%3A/Users/layal/AppData/Local/Packages/PythonSoftwareFoundation.Python.3.9_qbz5n2kfra8p0/LocalCache/local-packages/Python39/site-packages/pandas/core/indexes/base.py?line=3626'>3627</a>\u001b[0m     \u001b[39m#  the TypeError.\u001b[39;00m\n\u001b[0;32m   <a href='file:///c%3A/Users/layal/AppData/Local/Packages/PythonSoftwareFoundation.Python.3.9_qbz5n2kfra8p0/LocalCache/local-packages/Python39/site-packages/pandas/core/indexes/base.py?line=3627'>3628</a>\u001b[0m     \u001b[39mself\u001b[39m\u001b[39m.\u001b[39m_check_indexing_error(key)\n",
      "\u001b[1;31mKeyError\u001b[0m: 0"
     ]
    }
   ],
   "source": [
    "pos_count_true = 0\n",
    "neg_count_true = 0\n",
    "neu_count_true = 0\n",
    "\n",
    "pos_count_nltk = 0\n",
    "neg_count_nltk = 0\n",
    "neu_count_nltk = 0\n",
    "\n",
    "pos_count_bert = 0\n",
    "neg_count_bert = 0\n",
    "neu_count_bert = 0\n",
    "\n",
    "nltk_sentiment, word_counts, word_labels = analyze_tweet_nltk(token_tweets)\n",
    "bert_sentiment, word_counts, word_labels = analyze_tweet_bert(testing_data.Tweet)\n",
    "\n",
    "for idx in range(len(nltk_sentiment)):\n",
    "\n",
    "    if testing_data.Sentiment.loc[indices[idx]]=='Positive':\n",
    "        pos_count_true+=1\n",
    "    elif testing_data.Sentiment.loc[indices[idx]]=='Negative':\n",
    "        neg_count_true+=1\n",
    "    else:\n",
    "        neu_count_true+=1\n",
    "\n",
    "\n",
    "    if nltk_sentiment[idx] > 0.45:\n",
    "        pos_count_nltk+=1\n",
    "    elif nltk_sentiment[idx] < -0.45:\n",
    "        neg_count_nltk+=1\n",
    "    else:\n",
    "        neu_count_nltk+=1\n",
    "\n",
    "    if bert_sentiment[idx] > 0.45:\n",
    "        pos_count_bert+=1\n",
    "    elif bert_sentiment[idx] < -0.45:\n",
    "        neg_count_bert+=1\n",
    "    else:\n",
    "        neu_count_bert+=1\n",
    "\n",
    "\n",
    "nltk_accuracy = [pos_count_nltk/pos_count_true,\n",
    "                    neg_count_nltk/neg_count_true,\n",
    "                    neu_count_nltk/neu_count_true]\n",
    "\n",
    "# Closer to 1 is better\n",
    "print(\"NLTK true positive rate:\",round(nltk_accuracy[0],2),\n",
    "\"\\nNLTK true negative rate:\",round(nltk_accuracy[1],2),\n",
    "\"\\nNLTK true neutral rate:\",round(nltk_accuracy[2],2))\n",
    "\n",
    "bert_accuracy = [pos_count_bert/pos_count_true,\n",
    "                    neg_count_bert/neg_count_true,\n",
    "                    neu_count_bert/neu_count_true]\n",
    "\n",
    "# Closer to 1 is better\n",
    "print(\"BERT true positive rate:\",round(bert_accuracy[0],2),\n",
    "\"\\nBERT true negative rate:\",round(bert_accuracy[1],2),\n",
    "\"\\nBERT true neutral rate:\",round(bert_accuracy[2],2))\n",
    "\n",
    "rolling_sentiment_nltk = moving_average(nltk_sentiment)\n",
    "rolling_sentiment_bert = moving_average(bert_sentiment)\n"
   ]
  },
  {
   "cell_type": "code",
   "execution_count": 101,
   "metadata": {},
   "outputs": [
    {
     "name": "stdout",
     "output_type": "stream",
     "text": [
      "266\n",
      "24\n"
     ]
    }
   ],
   "source": [
    "print(neg_count_true)\n",
    "print(neg_count_bert)"
   ]
  },
  {
   "cell_type": "code",
   "execution_count": 197,
   "metadata": {},
   "outputs": [
    {
     "data": {
      "text/plain": [
       "<matplotlib.legend.Legend at 0x1faf3f2b5b0>"
      ]
     },
     "execution_count": 197,
     "metadata": {},
     "output_type": "execute_result"
    },
    {
     "data": {
      "image/png": "[encoded data removed]",
      "text/plain": [
       "<Figure size 432x288 with 1 Axes>"
      ]
     },
     "metadata": {
      "needs_background": "light"
     },
     "output_type": "display_data"
    }
   ],
   "source": [
    "plt.figure\n",
    "plt.plot(rolling_sentiment_nltk, label='nltk')\n",
    "plt.plot(rolling_sentiment_bert, label='bert')\n",
    "plt.xlabel(\"Tweet #\")\n",
    "plt.ylabel(\"Sentiment\")\n",
    "plt.title(\"Sentiment of tweets\")\n",
    "plt.legend()"
   ]
  },
  {
   "cell_type": "code",
   "execution_count": 153,
   "metadata": {},
   "outputs": [
    {
     "data": {
      "text/plain": [
       "([0, 1, 2, 3, 4, 5, 6, 7, 8, 9],\n",
       " [Text(0, 0, ''),\n",
       "  Text(0, 0, ''),\n",
       "  Text(0, 0, ''),\n",
       "  Text(0, 0, ''),\n",
       "  Text(0, 0, ''),\n",
       "  Text(0, 0, ''),\n",
       "  Text(0, 0, ''),\n",
       "  Text(0, 0, ''),\n",
       "  Text(0, 0, ''),\n",
       "  Text(0, 0, '')])"
      ]
     },
     "execution_count": 153,
     "metadata": {},
     "output_type": "execute_result"
    },
    {
     "data": {
      "image/png": "[encoded data removed]",
      "text/plain": [
       "<Figure size 432x288 with 1 Axes>"
      ]
     },
     "metadata": {
      "needs_background": "light"
     },
     "output_type": "display_data"
    }
   ],
   "source": [
    "plt.figure\n",
    "plt.bar(word_labels[0:10],word_counts[0:10])\n",
    "plt.xticks(rotation=45)"
   ]
  },
  {
   "cell_type": "markdown",
   "metadata": {},
   "source": [
    "<h3> Testing Twitter API... </h3>"
   ]
  },
  {
   "cell_type": "code",
   "execution_count": 170,
   "metadata": {},
   "outputs": [],
   "source": [
    "keyword = \"cibc\"\n",
    "\n",
    "keyword = keyword + \" lang:en\"\n",
    "\n",
    "api = tweepy.Client(BEARER_TOKEN,CONSUMER_KEY, CONSUMER_SECRET, ACCESS_TOKEN, ACCESS_TOKEN_SECRET)\n",
    "\n",
    "num_hours = 24\n",
    "raw_tweet_data = collect_data(keyword, num_hours, hour_interval=1)"
   ]
  },
  {
   "cell_type": "markdown",
   "metadata": {},
   "source": [
    "<h3> Printing out example tweet + time created </h3>"
   ]
  },
  {
   "cell_type": "code",
   "execution_count": 186,
   "metadata": {},
   "outputs": [
    {
     "name": "stdout",
     "output_type": "stream",
     "text": [
      "2022-05-21 22:38:01+00:00\n",
      "Application Support at CIBC\n",
      "Were building a relationshiporiented bank for the modern world We need talented passionate professionals who are dedicated to doing whats right for ou...\n",
      "#Support #remoteworking \n",
      "https://t.co/hOlc1WFqrZ\n"
     ]
    }
   ],
   "source": [
    "idxt=19\n",
    "\n",
    "print(str(raw_tweet_data[\"time\"][idxt]))\n",
    "print(raw_tweet_data[\"text\"][idxt])"
   ]
  },
  {
   "cell_type": "code",
   "execution_count": 187,
   "metadata": {},
   "outputs": [
    {
     "name": "stdout",
     "output_type": "stream",
     "text": [
      "Application Support at CIBC\n",
      "Were building a relationshiporiented bank for the modern world We need talented passionate professionals who are dedicated to doing whats right for ou...\n",
      "#Support #remoteworking \n",
      "https://t.co/hOlc1WFqrZ\n",
      "\n",
      "Clean tweet\n",
      "application support cibc building relationshiporiented bank modern world need talented passionate professionals dedicated whats right ou\n",
      "Hashtags = Support remoteworking\n"
     ]
    }
   ],
   "source": [
    "processed_tweets = []\n",
    "hashtags = []\n",
    "for idx in range(len(raw_tweet_data[\"text\"])):\n",
    "    temptweet, temphash = clean_tweet(str(raw_tweet_data[\"text\"][idx]))\n",
    "    processed_tweets.append(temptweet)\n",
    "    hashtags.append(temphash)\n",
    "\n",
    "print(str(raw_tweet_data[\"text\"][idxt]))  \n",
    "print(\"\\nClean tweet\") \n",
    "print(processed_tweets[idxt])\n",
    "print(\"Hashtags =\",hashtags[idxt])\n"
   ]
  },
  {
   "cell_type": "code",
   "execution_count": 194,
   "metadata": {},
   "outputs": [],
   "source": [
    "nltk_sentiment, word_counts, word_labels = analyze_tweet_nltk(processed_tweets)\n",
    "bert_sentiment, word_counts, word_labels = analyze_tweet_bert(processed_tweets)\n",
    "\n",
    "rolling_sentiment_nltk = moving_average(nltk_sentiment)\n",
    "rolling_sentiment_bert = moving_average(bert_sentiment)\n",
    "\n",
    "nltk_df = pd.DataFrame({\"Sentiment\":rolling_sentiment_nltk, \"Time\":raw_tweet_data[\"time\"]})\n",
    "bert_df = pd.DataFrame({\"Sentiment\":rolling_sentiment_bert, \"Time\":raw_tweet_data[\"time\"]})"
   ]
  },
  {
   "cell_type": "code",
   "execution_count": 181,
   "metadata": {},
   "outputs": [
    {
     "data": {
      "text/plain": [
       "(<Figure size 432x288 with 1 Axes>,\n",
       " <AxesSubplot:xlabel='Time', ylabel='Tweet Sentiment'>)"
      ]
     },
     "execution_count": 181,
     "metadata": {},
     "output_type": "execute_result"
    },
    {
     "data": {
      "image/png": "[encoded data removed]",
      "text/plain": [
       "<Figure size 432x288 with 1 Axes>"
      ]
     },
     "metadata": {
      "needs_background": "light"
     },
     "output_type": "display_data"
    }
   ],
   "source": [
    "multi_color_chart(nltk_df[\"Sentiment\"])"
   ]
  },
  {
   "cell_type": "code",
   "execution_count": 180,
   "metadata": {},
   "outputs": [
    {
     "data": {
      "text/plain": [
       "(<Figure size 432x288 with 1 Axes>,\n",
       " <AxesSubplot:xlabel='Time', ylabel='Tweet Sentiment'>)"
      ]
     },
     "execution_count": 180,
     "metadata": {},
     "output_type": "execute_result"
    },
    {
     "data": {
      "image/png": "[encoded data removed]",
      "text/plain": [
       "<Figure size 432x288 with 1 Axes>"
      ]
     },
     "metadata": {
      "needs_background": "light"
     },
     "output_type": "display_data"
    }
   ],
   "source": [
    "multi_color_chart(bert_df[\"Sentiment\"])"
   ]
  },
  {
   "cell_type": "code",
   "execution_count": 168,
   "metadata": {},
   "outputs": [
    {
     "data": {
      "text/plain": [
       "([0, 1, 2, 3, 4, 5, 6, 7, 8, 9],\n",
       " [Text(0, 0, ''),\n",
       "  Text(0, 0, ''),\n",
       "  Text(0, 0, ''),\n",
       "  Text(0, 0, ''),\n",
       "  Text(0, 0, ''),\n",
       "  Text(0, 0, ''),\n",
       "  Text(0, 0, ''),\n",
       "  Text(0, 0, ''),\n",
       "  Text(0, 0, ''),\n",
       "  Text(0, 0, '')])"
      ]
     },
     "execution_count": 168,
     "metadata": {},
     "output_type": "execute_result"
    },
    {
     "data": {
      "image/png": "[encoded data removed]",
      "text/plain": [
       "<Figure size 432x288 with 1 Axes>"
      ]
     },
     "metadata": {
      "needs_background": "light"
     },
     "output_type": "display_data"
    }
   ],
   "source": [
    "plt.figure()\n",
    "plt.bar(word_labels[1:11],word_counts[1:11])\n",
    "plt.xticks(rotation=45)"
   ]
  }
 ],
 "metadata": {
  "interpreter": {
   "hash": "95c34871158b8f6e0afd592aa87009b06370ad28e6065bf59f766353bfc85d76"
  },
  "kernelspec": {
   "display_name": "Python 3.9.12 64-bit (windows store)",
   "language": "python",
   "name": "python3"
  },
  "language_info": {
   "codemirror_mode": {
    "name": "ipython",
    "version": 3
   },
   "file_extension": ".py",
   "mimetype": "text/x-python",
   "name": "python",
   "nbconvert_exporter": "python",
   "pygments_lexer": "ipython3",
   "version": "3.9.13"
  },
  "orig_nbformat": 4
 },
 "nbformat": 4,
 "nbformat_minor": 2
}
