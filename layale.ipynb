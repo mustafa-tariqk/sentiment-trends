{
 "cells": [
  {
   "cell_type": "markdown",
   "metadata": {},
   "source": [
    "<h1>Experimentation Notebook for Twitter Sentiment Analysis</h1>\n",
    "This notebook covers all work done in building the backend portion of the Twitter Sentiment Trend app"
   ]
  },
  {
   "cell_type": "markdown",
   "metadata": {},
   "source": [
    "<h3> Initializing packages and datasets </h3>"
   ]
  },
  {
   "cell_type": "code",
   "execution_count": 148,
   "metadata": {},
   "outputs": [],
   "source": [
    "# Importing necessary packages + initializing settings\n",
    "import pandas as pd\n",
    "import datetime\n",
    "import numpy as np\n",
    "import nltk\n",
    "import re\n",
    "import tweepy\n",
    "from nltk.sentiment.vader import SentimentIntensityAnalyzer\n",
    "from nltk.corpus import stopwords\n",
    "from collections import Counter\n",
    "from string import punctuation\n",
    "import matplotlib.pyplot as plt\n",
    "from secrets import * # Contains the OAuth authentication tokens.\n",
    "\n",
    "# Loading data\n",
    "# training_data = pd.read_csv(\"./twitter_training.csv\", index_col=0, names=[\"Index\",\"Entity\",\"Sentiment\",\"Tweet\"])\n",
    "testing_data = pd.read_csv(\"./twitter_validation.csv\", index_col=0, names=[\"Index\",\"Entity\",\"Sentiment\",\"Tweet\"])\n",
    "\n",
    "# Converting indices in dataset to a list\n",
    "indices = testing_data.index.values.tolist()"
   ]
  },
  {
   "cell_type": "markdown",
   "metadata": {},
   "source": [
    "<h3> Defining <code>clean_tweet</code> function </h3>\n",
    "\n",
    "The function processes a raw tweet and returns a list of words separated by space characters + the hashtags used in the tweet.\n",
    "The code removes special characters, punctuation, numbers and stopwords (e.g., \"a\", \"the\", \"for\", etc.)."
   ]
  },
  {
   "cell_type": "code",
   "execution_count": 328,
   "metadata": {},
   "outputs": [],
   "source": [
    "def clean_tweet(tweet):\n",
    "    \"\"\"\n",
    "    This function processes the tweet into a string array for NLP sentiment analysis.    \n",
    "    \"\"\"\n",
    "\n",
    "    # Removing RT from tweet (can't figure out how to filter out retweets with Twitter APIv2)\n",
    "    remove_RT = lambda x: re.compile('RT @').sub('@',x,count=1).strip() \n",
    "    tweet = remove_RT(tweet)\n",
    "\n",
    "    # Removing mentions with regex\n",
    "    tweet = re.sub(r'@[A-Za-z0-9_]+', '', tweet)\n",
    "\n",
    "    # Removing links\n",
    "    tweet = re.sub(r\"http\\S+\", \"\", tweet)\n",
    "    tweet = re.sub(r\"www.\\S+\", \"\", tweet) \n",
    "\n",
    "    # Extracting then removing hashtags\n",
    "    hashtags = re.findall(r\"#(\\w+)\", tweet)\n",
    "    tweet = re.sub(\"#[A-Za-z0-9_]+\",\"\", tweet)\n",
    "\n",
    "    # Converting uppercase characters\n",
    "    tweet = tweet.lower()\n",
    "\n",
    "    # Splitting up all words into array of strings\n",
    "    tokens = tweet.split()\n",
    "\n",
    "    # Removing punctuation\n",
    "    table = str.maketrans(\" \",\" \",punctuation)\n",
    "    tokens = [w.translate(table) for w in tokens]\n",
    "\n",
    "    # Removing numerical characters\n",
    "    token = [w for w in tokens if w.isalpha()]\n",
    "\n",
    "    # Removing stopwords e.g., \"a\", \"the\", \"for\", etc.\n",
    "    stop_words = stopwords.words(\"english\")\n",
    "    new_tweet = [w for w in token if w not in stop_words]\n",
    "\n",
    "\n",
    "    return ' '.join(new_tweet), hashtags"
   ]
  },
  {
   "cell_type": "markdown",
   "metadata": {},
   "source": [
    "<h3> Defining <code>analyze_tweet</code> function </h3>\n",
    "\n",
    "This function returns statistics on processed set of tweets.\n",
    "Returns frequency data as well as sentiment analysis."
   ]
  },
  {
   "cell_type": "code",
   "execution_count": 325,
   "metadata": {},
   "outputs": [],
   "source": [
    "'''\n",
    "This function returns statistics on processed set of tweets.\n",
    "Returns frequency data as well as sentiment analysis.\n",
    "'''\n",
    "\n",
    "def analyze_tweet(input_tweets):\n",
    "\n",
    "    all_sentiment = []\n",
    "\n",
    "    count = 0\n",
    "\n",
    "    for idx in range(len(input_tweets)):   \n",
    "        temp = sentiment_analyzer.polarity_scores(input_tweets[idx])\n",
    "        all_sentiment.append(temp[\"compound\"])\n",
    "\n",
    "    \n",
    "    #freq_dist_tweet = nltk.FreqDist(input_tweets) \n",
    "\n",
    "    # Acquiring frequency distribution of words\n",
    "    counts = Counter(str(input_tweets).split())\n",
    "\n",
    "    labels, values = zip(*counts.items())\n",
    "\n",
    "    word_labels = np.array(labels)[np.argsort(values)[::-1]]\n",
    "    word_counts = np.array(values)[np.argsort(values)[::-1]]\n",
    "\n",
    "    return all_sentiment, word_counts, word_labels"
   ]
  },
  {
   "cell_type": "markdown",
   "metadata": {},
   "source": [
    "<h3> Data collection function <code> collect_data </code> </h3>\n",
    "\n",
    "Collects tweet data (date and text) when keyword is entered."
   ]
  },
  {
   "cell_type": "code",
   "execution_count": 326,
   "metadata": {},
   "outputs": [],
   "source": [
    "def collect_data(keyword,api):\n",
    "    # result = {\"time\":[], \"text\":[]}\n",
    "    date_until = datetime.datetime.now()\n",
    "    number_of_tweets = 100\n",
    "    \n",
    "    # Will query up to 7 days maximum\n",
    "    tweets = api.search_recent_tweets(query=keyword,\n",
    "                                max_results=number_of_tweets,\n",
    "                                end_time=date_until,\n",
    "                                tweet_fields=[\"text\",\"created_at\"])\n",
    "\n",
    "    raw_tweets = []\n",
    "    tweet_time = []\n",
    "    \n",
    "    for twt in tweets.data:\n",
    "        raw_tweets.append(twt.text)\n",
    "        tweet_time.append(twt.created_at)\n",
    "    \n",
    "    result = {\"time\": tweet_time, \"text\":raw_tweets}\n",
    "    \n",
    "\n",
    "    return result"
   ]
  },
  {
   "cell_type": "markdown",
   "metadata": {},
   "source": [
    "<h4> Example of <code> clean_tweet </code> function"
   ]
  },
  {
   "cell_type": "code",
   "execution_count": 329,
   "metadata": {},
   "outputs": [],
   "source": [
    "# Testing tweet cleaner\n",
    "token_tweets = []\n",
    "hashtags = []\n",
    "\n",
    "for idx in indices:\n",
    "    tweett,hasht = clean_tweet(testing_data.Tweet.loc[idx])\n",
    "    token_tweets.append(tweett)\n",
    "    hashtags.append(hasht)\n"
   ]
  },
  {
   "cell_type": "code",
   "execution_count": 330,
   "metadata": {},
   "outputs": [
    {
     "name": "stdout",
     "output_type": "stream",
     "text": [
      "Call of duty warzone (livestream) w/ subs #Warzone youtu.be/7BhH_pjOMU4 via @YouTube Please come watch this AMAZING Call of Duty Warzone stream from this AMAZING streamer! It'd be really, really nice to give him some views and likes as well! 😀 #COD #CallofDuty #Warzone\n"
     ]
    }
   ],
   "source": [
    "# Original tweet\n",
    "idx = 22\n",
    "print(testing_data.Tweet.loc[indices[idx]])"
   ]
  },
  {
   "cell_type": "code",
   "execution_count": 331,
   "metadata": {},
   "outputs": [
    {
     "name": "stdout",
     "output_type": "stream",
     "text": [
      "call duty warzone livestream w subs via please come watch amazing call duty warzone stream amazing streamer itd really really nice give views likes well\n",
      "Hashtags= ['Warzone', 'COD', 'CallofDuty', 'Warzone']\n"
     ]
    }
   ],
   "source": [
    "# Clean output\n",
    "print(token_tweets[idx])\n",
    "print(\"Hashtags=\",hashtags[idx])"
   ]
  },
  {
   "cell_type": "markdown",
   "metadata": {},
   "source": [
    "<h4> Testing <code> FreqDist </code> method of <code> nltk </code> </h4>\n",
    "Wanted to use this method for word count analysis but doesn't seem to work well..."
   ]
  },
  {
   "cell_type": "code",
   "execution_count": 332,
   "metadata": {},
   "outputs": [
    {
     "data": {
      "text/plain": [
       "[('played interesting quiz amazon try luck chance win exciting rewards', 5),\n",
       " ('red dead redemption', 4),\n",
       " ('wow', 3)]"
      ]
     },
     "execution_count": 332,
     "metadata": {},
     "output_type": "execute_result"
    }
   ],
   "source": [
    "freq_dist_tweet = nltk.FreqDist(token_tweets)\n",
    "freq_dist_tweet.most_common(3)"
   ]
  },
  {
   "cell_type": "markdown",
   "metadata": {},
   "source": [
    "<h4> Testing in-house solution for word count analysis </h4>\n",
    "Uses <code>Counter()</code> method from <code>collections</code> module"
   ]
  },
  {
   "cell_type": "code",
   "execution_count": 333,
   "metadata": {},
   "outputs": [
    {
     "data": {
      "text/plain": [
       "{\"['mentioned\": 1,\n",
       " 'facebook': 21,\n",
       " 'struggling': 2,\n",
       " 'motivation': 1,\n",
       " 'go': 28,\n",
       " 'run': 7,\n",
       " 'day': 22,\n",
       " 'translated': 1,\n",
       " 'great': 21,\n",
       " 'auntie': 1}"
      ]
     },
     "execution_count": 333,
     "metadata": {},
     "output_type": "execute_result"
    }
   ],
   "source": [
    "counts_test = Counter(str(token_tweets).split())\n",
    "\n",
    "import itertools\n",
    "dict(itertools.islice(counts_test.items(),10))"
   ]
  },
  {
   "cell_type": "markdown",
   "metadata": {},
   "source": [
    "<h4> Testing sentiment analyzer output </h4>\n",
    "<code> polarity_scores </code> returns 4 values. The first 3 are on a scale of 0 to 1 and indicate presence of negativity (<code> neg </code>), neutrality (<code> neu </code>) or positivity (<code> pos </code>). The fourth value <code> compound </code> is on a scale of -1 to +1 and is calculated separately. "
   ]
  },
  {
   "cell_type": "code",
   "execution_count": 334,
   "metadata": {},
   "outputs": [
    {
     "name": "stdout",
     "output_type": "stream",
     "text": [
      "BBC News - Amazon boss Jeff Bezos rejects claims company acted like a 'drug dealer' bbc.co.uk/news/av/busine…\n",
      "{'neg': 0.184, 'neu': 0.575, 'pos': 0.241, 'compound': -0.0}\n",
      "Neutral\n"
     ]
    }
   ],
   "source": [
    "# Testing sentiment analyzer\n",
    "idx = 1\n",
    "sentiment_analyzer = SentimentIntensityAnalyzer()\n",
    "print(testing_data.Tweet.loc[indices[idx]])\n",
    "print(sentiment_analyzer.polarity_scores(token_tweets[idx]))\n",
    "print(testing_data.Sentiment.loc[indices[idx]])\n"
   ]
  },
  {
   "cell_type": "markdown",
   "metadata": {},
   "source": [
    "<h4> Benchmarking <code> nltk</code> sentiment analyzer with true results </h4>\n",
    "The accuracy of the sentiment analyzer is benchmarked using the true results. For the purposes of testing, 'irrelevant' and 'neutral' were grouped together. The 'neutral' category was thresholded as being between a compound value of -0.45 to 0.45. Smaller numbers were deemed to be negative and larger numbers were deemed to be positive.\n",
    "\n",
    "The rates calculated indicate higher accuracy as the fraction approaches 1. Values greater than 1 represent overshooting by the model, and values less than 1 represent undershooting. Accuracy can be changed as the threshold is tweaked, representing some ambiguity in the definition of \"neutral\" in the analyzer."
   ]
  },
  {
   "cell_type": "code",
   "execution_count": 335,
   "metadata": {},
   "outputs": [
    {
     "name": "stdout",
     "output_type": "stream",
     "text": [
      "True positive rate: 1.26 \n",
      "True negative rate: 0.98 \n",
      "True neutral rate: 0.86\n"
     ]
    }
   ],
   "source": [
    "pos_count_true = 0\n",
    "neg_count_true = 0\n",
    "neu_count_true = 0\n",
    "\n",
    "pos_count_model = 0\n",
    "neg_count_model = 0\n",
    "neu_count_model = 0\n",
    "\n",
    "sentiment, word_counts, word_labels = analyze_tweet(token_tweets)\n",
    "\n",
    "for idx in range(len(sentiment)):\n",
    "\n",
    "    if testing_data.Sentiment.loc[indices[idx]]=='Positive':\n",
    "        pos_count_true+=1\n",
    "    elif testing_data.Sentiment.loc[indices[idx]]=='Negative':\n",
    "        neg_count_true+=1\n",
    "    else:\n",
    "        neu_count_true+=1\n",
    "\n",
    "\n",
    "    if sentiment[idx] > 0.45:\n",
    "        pos_count_model+=1\n",
    "    elif sentiment[idx] < -0.45:\n",
    "        neg_count_model+=1\n",
    "    else:\n",
    "        neu_count_model+=1\n",
    "\n",
    "\n",
    "model_accuracy = [pos_count_model/pos_count_true,\n",
    "                    neg_count_model/neg_count_true,\n",
    "                    neu_count_model/neu_count_true]\n",
    "\n",
    "# Closer to 1 is better\n",
    "print(\"True positive rate:\",round(model_accuracy[0],2),\n",
    "\"\\nTrue negative rate:\",round(model_accuracy[1],2),\n",
    "\"\\nTrue neutral rate:\",round(model_accuracy[2],2))\n"
   ]
  },
  {
   "cell_type": "code",
   "execution_count": 336,
   "metadata": {},
   "outputs": [
    {
     "data": {
      "text/plain": [
       "Text(0.5, 1.0, 'Sentiment of tweets')"
      ]
     },
     "execution_count": 336,
     "metadata": {},
     "output_type": "execute_result"
    },
    {
     "data": {
      "image/png": "[encoded data removed]",
      "text/plain": [
       "<Figure size 432x288 with 1 Axes>"
      ]
     },
     "metadata": {
      "needs_background": "light"
     },
     "output_type": "display_data"
    }
   ],
   "source": [
    "plt.figure\n",
    "plt.plot(sentiment)\n",
    "plt.xlabel(\"Tweet #\")\n",
    "plt.ylabel(\"Sentiment\")\n",
    "plt.title(\"Sentiment of tweets\")"
   ]
  },
  {
   "cell_type": "code",
   "execution_count": 337,
   "metadata": {},
   "outputs": [
    {
     "data": {
      "text/plain": [
       "<BarContainer object of 10 artists>"
      ]
     },
     "execution_count": 337,
     "metadata": {},
     "output_type": "execute_result"
    },
    {
     "data": {
      "image/png": "[encoded data removed]",
      "text/plain": [
       "<Figure size 432x288 with 1 Axes>"
      ]
     },
     "metadata": {
      "needs_background": "light"
     },
     "output_type": "display_data"
    }
   ],
   "source": [
    "plt.figure\n",
    "plt.bar(word_labels[0:10],word_counts[0:10])\n"
   ]
  },
  {
   "cell_type": "markdown",
   "metadata": {},
   "source": [
    "<h3> Testing Twitter API... </h3>"
   ]
  },
  {
   "cell_type": "code",
   "execution_count": 354,
   "metadata": {},
   "outputs": [],
   "source": [
    "keys_file = open(\"secrets.txt\")\n",
    "lines = keys_file.readlines()\n",
    "\n",
    "BEARER_TOKEN = lines[0].rstrip()\n",
    "CONSUMER_KEY = lines[1].rstrip()\n",
    "CONSUMER_SECRET = lines[2].rstrip()\n",
    "ACCESS_TOKEN = lines[3].rstrip()\n",
    "ACCESS_TOKEN_SECRET = lines[4].rstrip()\n",
    "\n",
    "api = tweepy.Client(BEARER_TOKEN,CONSUMER_KEY, CONSUMER_SECRET, ACCESS_TOKEN, ACCESS_TOKEN_SECRET)\n",
    "\n",
    "import urllib.parse\n",
    "keyword = \"covid-19\"\n",
    "\n",
    "keyword = keyword + \" lang:en\"\n",
    "\n",
    "raw_tweet_data = collect_data(keyword,api)\n"
   ]
  },
  {
   "cell_type": "markdown",
   "metadata": {},
   "source": [
    "<h3> Printing out example tweet + time created </h3>"
   ]
  },
  {
   "cell_type": "code",
   "execution_count": 355,
   "metadata": {},
   "outputs": [
    {
     "name": "stdout",
     "output_type": "stream",
     "text": [
      "2022-05-10 17:05:42+00:00\n",
      "RT @SenSanders: Estimates show that nearly 27 million Americans and their families lost their health care coverage when they lost their job…\n"
     ]
    }
   ],
   "source": [
    "print(str(raw_tweet_data[\"time\"][1]))\n",
    "print(raw_tweet_data[\"text\"][1])\n"
   ]
  },
  {
   "cell_type": "code",
   "execution_count": 356,
   "metadata": {},
   "outputs": [
    {
     "name": "stdout",
     "output_type": "stream",
     "text": [
      "RT @SenSanders: Estimates show that nearly 27 million Americans and their families lost their health care coverage when they lost their job…\n",
      "\n",
      "Clean tweet\n",
      "estimates show nearly million americans families lost health care coverage lost\n",
      "Hashtags = []\n"
     ]
    }
   ],
   "source": [
    "processed_tweets = []\n",
    "hashtags = []\n",
    "for idx in range(len(raw_tweet_data[\"text\"])):\n",
    "    temptweet, temphash = clean_tweet(str(raw_tweet_data[\"text\"][idx]))\n",
    "    processed_tweets.append(temptweet)\n",
    "    hashtags.append(temphash)\n",
    "\n",
    "idxt = 1\n",
    "print(str(raw_tweet_data[\"text\"][idxt]))  \n",
    "print(\"\\nClean tweet\") \n",
    "print(processed_tweets[idxt])\n",
    "print(\"Hashtags =\",hashtags[idxt])\n"
   ]
  },
  {
   "cell_type": "code",
   "execution_count": 359,
   "metadata": {},
   "outputs": [
    {
     "data": {
      "text/plain": [
       "Text(0.5, 1.0, 'Sentiment')"
      ]
     },
     "execution_count": 359,
     "metadata": {},
     "output_type": "execute_result"
    },
    {
     "data": {
      "image/png": "[encoded data removed]",
      "text/plain": [
       "<Figure size 432x288 with 1 Axes>"
      ]
     },
     "metadata": {
      "needs_background": "light"
     },
     "output_type": "display_data"
    }
   ],
   "source": [
    "sentiment, word_counts, word_labels = analyze_tweet(processed_tweets)\n",
    "\n",
    "plt.figure\n",
    "plt.plot(sentiment)\n",
    "plt.title(\"Sentiment\")"
   ]
  },
  {
   "cell_type": "code",
   "execution_count": 358,
   "metadata": {},
   "outputs": [
    {
     "data": {
      "text/plain": [
       "<BarContainer object of 5 artists>"
      ]
     },
     "execution_count": 358,
     "metadata": {},
     "output_type": "execute_result"
    },
    {
     "data": {
      "image/png": "[encoded data removed]",
      "text/plain": [
       "<Figure size 432x288 with 1 Axes>"
      ]
     },
     "metadata": {
      "needs_background": "light"
     },
     "output_type": "display_data"
    }
   ],
   "source": [
    "plt.figure\n",
    "plt.bar(word_labels[0:5],word_counts[0:5])"
   ]
  }
 ],
 "metadata": {
  "interpreter": {
   "hash": "95c34871158b8f6e0afd592aa87009b06370ad28e6065bf59f766353bfc85d76"
  },
  "kernelspec": {
   "display_name": "Python 3.9.12 64-bit (windows store)",
   "language": "python",
   "name": "python3"
  },
  "language_info": {
   "codemirror_mode": {
    "name": "ipython",
    "version": 3
   },
   "file_extension": ".py",
   "mimetype": "text/x-python",
   "name": "python",
   "nbconvert_exporter": "python",
   "pygments_lexer": "ipython3",
   "version": "3.9.12"
  },
  "orig_nbformat": 4
 },
 "nbformat": 4,
 "nbformat_minor": 2
}
